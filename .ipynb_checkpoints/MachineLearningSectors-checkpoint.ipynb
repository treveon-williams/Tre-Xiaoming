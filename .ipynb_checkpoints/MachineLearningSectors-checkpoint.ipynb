{
 "cells": [
  {
   "cell_type": "code",
   "execution_count": null,
   "id": "0b6a71f5-4b57-44a7-9a58-18a4e9ca0d4d",
   "metadata": {},
   "outputs": [],
   "source": [
    "##Imports\n",
    "\n",
    "import pandas as pd\n",
    "import numpy as np\n",
    "#from pathlib import Path\n",
    "import hvplot.pandas\n",
    "import matplotlib.pyplot as plt\n",
    "%matplotlib inline\n",
    "\n",
    "import yfinance as yf\n",
    "from datetime import date\n",
    "from pandas_datareader import data as pdr\n",
    "\n",
    "## not yet decided which library/model to import\n",
    "\n",
    "#from sklearn import svm\n",
    "#from sklearn.preprocessing import StandardScaler\n",
    "#from pandas.tseries.offsets import DateOffset\n",
    "#from sklearn.metrics import classification_report"
   ]
  },
  {
   "cell_type": "code",
   "execution_count": null,
   "id": "95b61542-b544-406a-9939-1e73f09ea7db",
   "metadata": {},
   "outputs": [],
   "source": [
    "# load the tickers lists for three ETFs sectors\n",
    "yf.pdr_override() \n",
    "\n",
    "# choose the ETFs\n",
    "ticker_list =  #Type here ['','',...]\n",
    "\n",
    "# choose time frame\n",
    "timeframe = \"1Day\"\n",
    "today = date.today()\n",
    "start_date = \"2018-02-28\"\n",
    "end_date = today\n",
    "\n",
    "#Get five years worth of historical data for ticker_list\n",
    "ticker_data = # Type here api\n",
    "# api.get_bars(\n",
    "#     ticker,\n",
    "#     timeframe,\n",
    "#     start=start_date,\n",
    "#     end=end_date\n",
    "# ).df\n"
   ]
  },
  {
   "cell_type": "code",
   "execution_count": null,
   "id": "867f40f1-ddc9-4d20-a366-46d79def16b4",
   "metadata": {},
   "outputs": [],
   "source": [
    "#create the new df which contains the ticker_list\n",
    "df_sectors = # type here\n",
    "# api.get_bars(\n",
    "#     ticker,\n",
    "#     timeframe,\n",
    "#     start = '2020-03-06',\n",
    "#     end = end_date\n",
    "# ).df\n",
    "\n",
    "#seperate ticker symbols for each sectors\n",
    "# Type here \n",
    "\n",
    "#combine data\n",
    "df_combined = # type here\n"
   ]
  }
 ],
 "metadata": {
  "kernelspec": {
   "display_name": "Python 3 (ipykernel)",
   "language": "python",
   "name": "python3"
  },
  "language_info": {
   "codemirror_mode": {
    "name": "ipython",
    "version": 3
   },
   "file_extension": ".py",
   "mimetype": "text/x-python",
   "name": "python",
   "nbconvert_exporter": "python",
   "pygments_lexer": "ipython3",
   "version": "3.9.13"
  }
 },
 "nbformat": 4,
 "nbformat_minor": 5
}
